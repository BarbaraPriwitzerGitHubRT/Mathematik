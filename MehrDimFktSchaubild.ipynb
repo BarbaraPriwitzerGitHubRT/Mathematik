{
 "cells": [
  {
   "cell_type": "markdown",
   "metadata": {},
   "source": [
    "Darstellung von Funktionen von zwei Veränderlichen mit Python\n",
    "--\n",
    "Hier können Sie Funktionen von zwei Veränderlichen veranschaulichen. Probieren Sie es selber für andere Funktionen aus!"
   ]
  },
  {
   "cell_type": "code",
   "execution_count": 2,
   "metadata": {},
   "outputs": [
    {
     "data": {
      "application/vnd.jupyter.widget-view+json": {
       "model_id": "2f7a6064a08c4f5cb4875a5f0eb2fc49",
       "version_major": 2,
       "version_minor": 0
      },
      "text/plain": [
       "Canvas(toolbar=Toolbar(toolitems=[('Home', 'Reset original view', 'home', 'home'), ('Back', 'Back to previous …"
      ]
     },
     "metadata": {},
     "output_type": "display_data"
    }
   ],
   "source": [
    "#Einlesen von Packages für Berechnungen und graphische Darstellungen\n",
    "import numpy as np\n",
    "import matplotlib.pyplot as plt\n",
    "from mpl_toolkits import mplot3d\n",
    "\n",
    "#Option für interaktive 3D Graphiken\n",
    "%matplotlib widget\n",
    "\n",
    "#Festlegung der Bereiche - Sie können hier bei Bedarf ändern\n",
    "x = np.linspace(-20, 20, 100) #Bereich für x-Werte von -20 bis 20\n",
    "y = np.linspace(-20, 20, 100) #Bereich für y-Werte von -20 bis 20\n",
    "\n",
    "X, Y = np.meshgrid(x, y) #Erzeugen eines 2-dimensionalen Gitters\n",
    "\n",
    "#Festlegung der Funtion - Sie können eine eigene Definition definieren\n",
    "Z = np.sin(np.sqrt(X ** 2 + Y ** 2)) #Funktion von 2 Variablen\n",
    "\n",
    "#Schaubild der Funktion mit Achsen und Titel\n",
    "ax = plt.axes(projection='3d')\n",
    "ax.plot_surface(X, Y, Z, cmap='winter', edgecolor='none')\n",
    "ax.set_title('Mehrdimensionale Funktion');\n"
   ]
  },
  {
   "cell_type": "code",
   "execution_count": null,
   "metadata": {},
   "outputs": [],
   "source": []
  },
  {
   "cell_type": "code",
   "execution_count": null,
   "metadata": {},
   "outputs": [],
   "source": []
  }
 ],
 "metadata": {
  "kernelspec": {
   "display_name": "Python 3",
   "language": "python",
   "name": "python3"
  },
  "language_info": {
   "codemirror_mode": {
    "name": "ipython",
    "version": 3
   },
   "file_extension": ".py",
   "mimetype": "text/x-python",
   "name": "python",
   "nbconvert_exporter": "python",
   "pygments_lexer": "ipython3",
   "version": "3.7.4"
  }
 },
 "nbformat": 4,
 "nbformat_minor": 2
}
